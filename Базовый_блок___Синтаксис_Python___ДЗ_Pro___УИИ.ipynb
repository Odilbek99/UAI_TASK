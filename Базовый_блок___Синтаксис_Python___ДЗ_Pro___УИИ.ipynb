{
  "nbformat": 4,
  "nbformat_minor": 0,
  "metadata": {
    "colab": {
      "provenance": [],
      "collapsed_sections": []
    },
    "kernelspec": {
      "display_name": "Python 3",
      "name": "python3"
    },
    "language_info": {
      "name": "python"
    }
  },
  "cells": [
    {
      "cell_type": "markdown",
      "metadata": {
        "id": "39zJTivLrXFV"
      },
      "source": [
        "### Задача 1"
      ]
    },
    {
      "cell_type": "markdown",
      "metadata": {
        "id": "8YhhSW05rc1o"
      },
      "source": [
        "Напишите программу, которая просит пользователя ввести произвольную цифру от 1 до 9, а затем выводит таблицу умножения для введенного числа.\n",
        "\n",
        "Добавьте проверку введенной пользователем информации:\n",
        "* данные должны быть целочисленного типа\n",
        "* число должно находиться в диапазоне от 1 до 9"
      ]
    },
    {
      "cell_type": "code",
      "metadata": {
        "id": "ye9ErHpKBhhU",
        "outputId": "a73666c9-1062-46ba-b6e5-beaad3086a6f",
        "colab": {
          "base_uri": "https://localhost:8080/"
        }
      },
      "source": [
        "# Ваше решение\n",
        "bool_ = True\n",
        "while bool_:\n",
        "  usrInp = int(input('Введите числа от 1 до 9: '))\n",
        "  if usrInp > 9 or usrInp < 1:\n",
        "    print('Пожалуйста, введите числа от 1 до 9 или данные должны быть целочисленного типа!!!')\n",
        "\n",
        "  else:\n",
        "    for i in range(1,11):\n",
        "      res = int(usrInp) * i\n",
        "      print(f'{usrInp} * {i} = {res}')\n",
        "      bool_ = False"
      ],
      "execution_count": 7,
      "outputs": [
        {
          "output_type": "stream",
          "name": "stdout",
          "text": [
            "Введите числа от 1 до 9: 23\n",
            "Пожалуйста, введите числа от 1 до 9 или данные должны быть целочисленного типа!!!\n",
            "Введите числа от 1 до 9: 12\n",
            "Пожалуйста, введите числа от 1 до 9 или данные должны быть целочисленного типа!!!\n",
            "Введите числа от 1 до 9: 4\n",
            "4 * 1 = 4\n",
            "4 * 2 = 8\n",
            "4 * 3 = 12\n",
            "4 * 4 = 16\n",
            "4 * 5 = 20\n",
            "4 * 6 = 24\n",
            "4 * 7 = 28\n",
            "4 * 8 = 32\n",
            "4 * 9 = 36\n",
            "4 * 10 = 40\n"
          ]
        }
      ]
    },
    {
      "cell_type": "markdown",
      "metadata": {
        "id": "dT9n_KJtpS-N"
      },
      "source": [
        "### Задача 2"
      ]
    },
    {
      "cell_type": "markdown",
      "metadata": {
        "id": "OTSU9QTLhdqe"
      },
      "source": [
        "Напишите программу, которая ищет все числа в интервале от 300 до 430 включительно, делящиеся на 11, но не делящиеся на 5. Выведите на экран все найденные числа."
      ]
    },
    {
      "cell_type": "code",
      "metadata": {
        "id": "lFWrMa8Uh9dc",
        "outputId": "07089228-7f02-467a-8a80-b20b116940d0",
        "colab": {
          "base_uri": "https://localhost:8080/"
        }
      },
      "source": [
        "# Ваше решение\n",
        "for i in range(300, 431):\n",
        "  if i % 11 == 0 and i % 5 != 0:\n",
        "    print(i)"
      ],
      "execution_count": 8,
      "outputs": [
        {
          "output_type": "stream",
          "name": "stdout",
          "text": [
            "308\n",
            "319\n",
            "341\n",
            "352\n",
            "363\n",
            "374\n",
            "396\n",
            "407\n",
            "418\n",
            "429\n"
          ]
        }
      ]
    },
    {
      "cell_type": "markdown",
      "metadata": {
        "id": "BDz6HXvPxsYs"
      },
      "source": [
        "### Задача 3"
      ]
    },
    {
      "cell_type": "markdown",
      "metadata": {
        "id": "_b21x2ryxziN"
      },
      "source": [
        "Напишите функцию, которая принимает один параметр (год) и определяет, является ли этот год високосным.\n",
        "\n",
        "Напомним, что ***високосными*** годами считаются те, порядковый номер которых либо кратен **4**, но при этом не кратен **100**, либо кратен **400** (например, 2000-й год являлся високосным, а 2100-й будет не високосным годом).\n",
        "\n",
        "Программа должна корректно работать на числах **1900 ≤ n ≤ 3000**.\n",
        "\n",
        "Функция должна вывести на экран \"Високосный\" в случае, если год является високосным и \"Обычный\" в противном случае."
      ]
    },
    {
      "cell_type": "code",
      "metadata": {
        "id": "W2LFTkVAeDE_",
        "outputId": "0a2eb38a-f75f-4cc3-c99c-43937bfc9859",
        "colab": {
          "base_uri": "https://localhost:8080/"
        }
      },
      "source": [
        "# Ваше решение\n",
        "def func(year):\n",
        "  if year % 100 == 0:\n",
        "    if year % 400 == 0:\n",
        "      print('Високосный')\n",
        "    else:\n",
        "      print('Обычный')\n",
        "\n",
        "\n",
        "  else:\n",
        "     if year % 4 == 0:\n",
        "        print(\"Високосный\")\n",
        "     else:\n",
        "        print('Обычный')\n",
        "\n",
        "func(3004)"
      ],
      "execution_count": 33,
      "outputs": [
        {
          "output_type": "stream",
          "name": "stdout",
          "text": [
            "Високосный\n"
          ]
        }
      ]
    },
    {
      "cell_type": "markdown",
      "metadata": {
        "id": "9sr2U6oz1Iqu"
      },
      "source": [
        "### Задача 4"
      ]
    },
    {
      "cell_type": "markdown",
      "metadata": {
        "id": "fHMBDh-ahdrz"
      },
      "source": [
        "Создайте словарь (dict) c ключами, соответствующими числам от 1 до 10 включительно и значениями, соответствующими квадратам ключей. "
      ]
    },
    {
      "cell_type": "code",
      "metadata": {
        "id": "qpzOKGoXgzwQ",
        "outputId": "43ecc8e3-86b7-4e82-d4ea-494e712c0c38",
        "colab": {
          "base_uri": "https://localhost:8080/"
        }
      },
      "source": [
        "# Ваше решение\n",
        "d = {}\n",
        "for i in range(1,11):\n",
        "  d[i] = i**2\n",
        "print(d)"
      ],
      "execution_count": 35,
      "outputs": [
        {
          "output_type": "stream",
          "name": "stdout",
          "text": [
            "{1: 1, 2: 4, 3: 9, 4: 16, 5: 25, 6: 36, 7: 49, 8: 64, 9: 81, 10: 100}\n"
          ]
        }
      ]
    },
    {
      "cell_type": "markdown",
      "metadata": {
        "id": "1GnNaeQ4zwt1"
      },
      "source": [
        "### Задача 5"
      ]
    },
    {
      "cell_type": "markdown",
      "metadata": {
        "id": "Rz5_LNzlr7GR"
      },
      "source": [
        "Напишите функцию простейшего калькулятора. Пользователь вводит число **a**, число **b** и вид арифметической операции над ними. Функция возвращает результат вычисления. "
      ]
    },
    {
      "cell_type": "code",
      "metadata": {
        "id": "DD8u-nSnl41M",
        "outputId": "1d211259-7734-415a-a830-a8517a6de678",
        "colab": {
          "base_uri": "https://localhost:8080/"
        }
      },
      "source": [
        "# Ваше решение\n",
        "operations = ['+', '-', '/', '*']\n",
        "a = input('Введите число а: ')\n",
        "b = input('Введите число b: ')\n",
        "c = 1\n",
        "print('-'*30)\n",
        "for i in operations:\n",
        "  print(f'Нажмите {c} чтобы выполнить операцию {i}')\n",
        "  c += 1\n",
        "print('-'*30)\n",
        "usrOper = int(input('Введите тип операции... : '))\n",
        "\n",
        "if usrOper == 1:\n",
        "  print(f'{a} + {b} = {int(a)+int(b)}')\n",
        "  print(f'Ответ {int(a)+int(b)}')\n",
        "elif usrOper == 2:\n",
        "  print(f'{a} - {b} = {int(a)-int(b)}')\n",
        "  print(f'Ответ {int(a)-int(b)}')\n",
        "elif usrOper == 3:\n",
        "  print(f'{a} / {b} = {int(a)/int(b)}')\n",
        "  print(f'Ответ {int(a)/int(b)}')\n",
        "elif usrOper == 4:\n",
        "  print(f'{a} * {b} = {int(a)*int(b)}')\n",
        "  print(f'Ответ {int(a)*int(b)}')\n",
        "\n"
      ],
      "execution_count": 40,
      "outputs": [
        {
          "output_type": "stream",
          "name": "stdout",
          "text": [
            "Введите число а: 5\n",
            "Введите число b: 2\n",
            "------------------------------\n",
            "Нажмите 1 чтобы выполнить операцию +\n",
            "Нажмите 2 чтобы выполнить операцию -\n",
            "Нажмите 3 чтобы выполнить операцию /\n",
            "Нажмите 4 чтобы выполнить операцию *\n",
            "------------------------------\n",
            "Введите тип операции...3\n",
            "5 / 2 = 2.5\n",
            "Ответ 2.5\n"
          ]
        }
      ]
    },
    {
      "cell_type": "code",
      "metadata": {
        "id": "bIIN_rNzYm5G"
      },
      "source": [],
      "execution_count": null,
      "outputs": []
    }
  ]
}