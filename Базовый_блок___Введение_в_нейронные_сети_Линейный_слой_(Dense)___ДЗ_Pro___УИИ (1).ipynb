{
  "nbformat": 4,
  "nbformat_minor": 0,
  "metadata": {
    "colab": {
      "provenance": [],
      "collapsed_sections": []
    },
    "kernelspec": {
      "name": "python3",
      "display_name": "Python 3"
    },
    "language_info": {
      "name": "python"
    },
    "accelerator": "GPU"
  },
  "cells": [
    {
      "cell_type": "markdown",
      "metadata": {
        "id": "d_qXycKuUA51"
      },
      "source": [
        "### Задание"
      ]
    },
    {
      "cell_type": "markdown",
      "metadata": {
        "id": "aUMmCXubUHEb"
      },
      "source": [
        "Самостоятельно напишите нейронную сеть, которая может стать составной частью системы бота для игры в \"Крестики-нолики\". Используя подготовленную базу изображений, создайте и обучите нейронную сеть, распознающую две категории изображений: крестики и нолики. Добейтесь точности распознавания более 95% (accuracy)\n"
      ]
    },
    {
      "cell_type": "code",
      "metadata": {
        "id": "LvOL2h3EdC9y"
      },
      "source": [
        "# Подключение класса для создания нейронной сети прямого распространения\n",
        "from tensorflow.keras.models import Sequential \n",
        "# Подключение класса для создания полносвязного слоя\n",
        "from tensorflow.keras.layers import Dense \n",
        "# Подключение оптимизатора\n",
        "from tensorflow.keras.optimizers import Adam \n",
        "# Подключение утилит для to_categorical\n",
        "from tensorflow.keras import utils \n",
        "# Подключение библиотеки для загрузки изображений\n",
        "from tensorflow.keras.preprocessing import image \n",
        "# Подключение библиотеки для работы с массивами\n",
        "import numpy as np\n",
        "# Подключение модуля для работы с файлами\n",
        "import os\n",
        "# Подключение библиотек для отрисовки изображений\n",
        "import matplotlib.pyplot as plt \n",
        "from PIL import Image \n",
        "# Вывод изображения в ноутбуке, а не в консоли или файле\n",
        "%matplotlib inline "
      ],
      "execution_count": 57,
      "outputs": []
    },
    {
      "cell_type": "code",
      "metadata": {
        "colab": {
          "base_uri": "https://localhost:8080/",
          "height": 35
        },
        "id": "lJSH41rM12IE",
        "outputId": "74c8873d-6d77-47b1-ef6e-84aeb0871358"
      },
      "source": [
        "# Загрузка датасета из облака\n",
        "import gdown\n",
        "gdown.download('https://storage.yandexcloud.net/aiueducation/Content/base/l3/hw_pro.zip', None, quiet=True)"
      ],
      "execution_count": 58,
      "outputs": [
        {
          "output_type": "execute_result",
          "data": {
            "text/plain": [
              "'hw_pro.zip'"
            ],
            "application/vnd.google.colaboratory.intrinsic+json": {
              "type": "string"
            }
          },
          "metadata": {},
          "execution_count": 58
        }
      ]
    },
    {
      "cell_type": "code",
      "metadata": {
        "id": "5HAhCsCJ1_hJ",
        "colab": {
          "base_uri": "https://localhost:8080/"
        },
        "outputId": "b702ef35-d664-4351-b532-e41672803c74"
      },
      "source": [
        "# Распаковываем архив hw_light.zip в папку hw_light\n",
        "!unzip -q hw_pro.zip"
      ],
      "execution_count": 59,
      "outputs": [
        {
          "output_type": "stream",
          "name": "stdout",
          "text": [
            "replace hw_pro/0/1.jpg? [y]es, [n]o, [A]ll, [N]one, [r]ename: A\n"
          ]
        }
      ]
    },
    {
      "cell_type": "code",
      "metadata": {
        "colab": {
          "base_uri": "https://localhost:8080/"
        },
        "id": "HhHbCet01zmG",
        "outputId": "12b622c4-a424-4416-a461-daf32df9fde9"
      },
      "source": [
        "# Путь к директории с базой\n",
        "base_dir = '/content/hw_pro'\n",
        "# Создание пустого списка для загрузки изображений обучающей выборки\n",
        "x_train = []\n",
        "# Создание списка для меток классов\n",
        "y_train = []\n",
        "# Задание высоты и ширины загружаемых изображений\n",
        "img_height = 20\n",
        "img_width = 20\n",
        "# Перебор папок в директории базы\n",
        "for patch in os.listdir(base_dir):\n",
        "    # Перебор файлов в папках\n",
        "    for img in os.listdir(base_dir + '/' + patch):\n",
        "        # Добавление в список изображений текущей картинки\n",
        "        x_train.append(image.img_to_array(image.load_img(base_dir + '/' + patch + '/' + img,\n",
        "                                                         target_size=(img_height, img_width),\n",
        "                                                         color_mode='grayscale')))\n",
        "        # Добавление в массив меток, соответствующих классам\n",
        "        if patch == '0':\n",
        "            y_train.append(0)\n",
        "        else:\n",
        "            y_train.append(1)\n",
        "# Преобразование в numpy-массив загруженных изображений и меток классов\n",
        "x_train = np.array(x_train)\n",
        "y_train = np.array(y_train)\n",
        "# Вывод размерностей\n",
        "print('Размер массива x_train', x_train.shape)\n",
        "print('Размер массива y_train', y_train.shape)"
      ],
      "execution_count": 60,
      "outputs": [
        {
          "output_type": "stream",
          "name": "stdout",
          "text": [
            "Размер массива x_train (102, 20, 20, 1)\n",
            "Размер массива y_train (102,)\n"
          ]
        }
      ]
    },
    {
      "cell_type": "code",
      "source": [
        "# Используем функцию np.squeeze() чтобы изменить shape выборки\n",
        "\n",
        "x = np.squeeze(x_train, axis=-1)\n",
        "x.shape"
      ],
      "metadata": {
        "colab": {
          "base_uri": "https://localhost:8080/"
        },
        "id": "yxFRv0VOgVb2",
        "outputId": "6088b724-aada-4693-b72c-acd3ad6770f6"
      },
      "execution_count": 61,
      "outputs": [
        {
          "output_type": "execute_result",
          "data": {
            "text/plain": [
              "(102, 20, 20)"
            ]
          },
          "metadata": {},
          "execution_count": 61
        }
      ]
    },
    {
      "cell_type": "code",
      "metadata": {
        "id": "TJLh3F3N2DCD",
        "colab": {
          "base_uri": "https://localhost:8080/",
          "height": 265
        },
        "outputId": "314c323b-df0a-45e6-9fd0-5baeddc5db96"
      },
      "source": [
        "# Отрисовка картинки\n",
        "n = np.random.randint(x.shape[0])\n",
        "\n",
        "plt.imshow(x[n], cmap='gray')\n",
        "\n",
        "# Вывод n-й картинки\n",
        "plt.show()"
      ],
      "execution_count": 62,
      "outputs": [
        {
          "output_type": "display_data",
          "data": {
            "text/plain": [
              "<Figure size 432x288 with 1 Axes>"
            ],
            "image/png": "[encoded data removed]"
          },
          "metadata": {
            "needs_background": "light"
          }
        }
      ]
    },
    {
      "cell_type": "code",
      "source": [
        "# Проверка y_train\n",
        "y_train"
      ],
      "metadata": {
        "colab": {
          "base_uri": "https://localhost:8080/"
        },
        "id": "uCeh6hZTfxwl",
        "outputId": "3c8622f8-15a5-43ef-99c2-c7c22a9d8877"
      },
      "execution_count": 63,
      "outputs": [
        {
          "output_type": "execute_result",
          "data": {
            "text/plain": [
              "array([0, 0, 0, 0, 0, 0, 0, 0, 0, 0, 0, 0, 0, 0, 0, 0, 0, 0, 0, 0, 0, 0,\n",
              "       0, 0, 0, 0, 0, 0, 0, 0, 0, 0, 0, 0, 0, 0, 0, 0, 0, 0, 0, 0, 0, 0,\n",
              "       0, 0, 0, 0, 0, 0, 1, 1, 1, 1, 1, 1, 1, 1, 1, 1, 1, 1, 1, 1, 1, 1,\n",
              "       1, 1, 1, 1, 1, 1, 1, 1, 1, 1, 1, 1, 1, 1, 1, 1, 1, 1, 1, 1, 1, 1,\n",
              "       1, 1, 1, 1, 1, 1, 1, 1, 1, 1, 1, 1, 1, 1])"
            ]
          },
          "metadata": {},
          "execution_count": 63
        }
      ]
    },
    {
      "cell_type": "code",
      "source": [
        "# Изменение формы входных картинок с 20х20 на 400\n",
        "x_train = x.reshape(x.shape[0], -1) \n",
        "\n",
        "# Проверка результата\n",
        "x_train.shape"
      ],
      "metadata": {
        "colab": {
          "base_uri": "https://localhost:8080/"
        },
        "id": "pBn1BHkMkvaQ",
        "outputId": "79dcb579-d16d-4cb0-d45c-ce4a4c8a8102"
      },
      "execution_count": 64,
      "outputs": [
        {
          "output_type": "execute_result",
          "data": {
            "text/plain": [
              "(102, 400)"
            ]
          },
          "metadata": {},
          "execution_count": 64
        }
      ]
    },
    {
      "cell_type": "code",
      "source": [
        "# Нормализация входных картинок\n",
        "# Преобразование x_train в тип float32 (числа с плавающей точкой) и нормализация\n",
        "x_train = x_train.astype('float32') / 255."
      ],
      "metadata": {
        "id": "f5QrBD3alH-t"
      },
      "execution_count": 65,
      "outputs": []
    },
    {
      "cell_type": "code",
      "source": [
        "# Преобразование ответов в формат one_hot_encoding\n",
        "y_train = utils.to_categorical(y_train, 2)"
      ],
      "metadata": {
        "id": "DjHNSlUvlYXm"
      },
      "execution_count": 66,
      "outputs": []
    },
    {
      "cell_type": "code",
      "source": [
        "# Проверка форрмы y_train\n",
        "# 102 примеров, каждый длины 2 по числу классов\n",
        "y_train.shape"
      ],
      "metadata": {
        "colab": {
          "base_uri": "https://localhost:8080/"
        },
        "id": "or47H-7Lllfj",
        "outputId": "b4443ccd-4328-4dbc-92e2-61e01e8158c9"
      },
      "execution_count": 55,
      "outputs": [
        {
          "output_type": "execute_result",
          "data": {
            "text/plain": [
              "(102, 2)"
            ]
          },
          "metadata": {},
          "execution_count": 55
        }
      ]
    },
    {
      "cell_type": "code",
      "source": [
        "# Создание последовательной модели\n",
        "model = Sequential()\n",
        "\n",
        "# Добавление полносвязного слоя на 800 нейронов с relu-активацией\n",
        "model.add(Dense(500, input_dim=400, activation='relu')) \n",
        "\n",
        "# Добавление полносвязного слоя на 400 нейронов с relu-активацией\n",
        "model.add(Dense(100, activation='relu'))\n",
        "\n",
        "# Добавление полносвязного слоя с количеством нейронов по числу классов с softmax-активацией\n",
        "model.add(Dense(2, activation='softmax')) "
      ],
      "metadata": {
        "id": "KGq32rpMlnPV"
      },
      "execution_count": 49,
      "outputs": []
    },
    {
      "cell_type": "code",
      "source": [
        "# Компиляция модели\n",
        "model.compile(loss='categorical_crossentropy', optimizer='adam', metrics=['accuracy'])"
      ],
      "metadata": {
        "id": "Usm-svLfmPpg"
      },
      "execution_count": 50,
      "outputs": []
    },
    {
      "cell_type": "code",
      "source": [
        "# Вывод структуры модели\n",
        "model.summary()"
      ],
      "metadata": {
        "colab": {
          "base_uri": "https://localhost:8080/"
        },
        "id": "krVP0wYbmUeg",
        "outputId": "8259fd9f-43dc-4033-a931-b0f0e538c244"
      },
      "execution_count": 51,
      "outputs": [
        {
          "output_type": "stream",
          "name": "stdout",
          "text": [
            "Model: \"sequential_3\"\n",
            "_________________________________________________________________\n",
            " Layer (type)                Output Shape              Param #   \n",
            "=================================================================\n",
            " dense_9 (Dense)             (None, 500)               200500    \n",
            "                                                                 \n",
            " dense_10 (Dense)            (None, 100)               50100     \n",
            "                                                                 \n",
            " dense_11 (Dense)            (None, 2)                 202       \n",
            "                                                                 \n",
            "=================================================================\n",
            "Total params: 250,802\n",
            "Trainable params: 250,802\n",
            "Non-trainable params: 0\n",
            "_________________________________________________________________\n",
            "None\n"
          ]
        }
      ]
    },
    {
      "cell_type": "code",
      "source": [
        "# Отрисовка наглядную схему (граф) нейронной сети\n",
        "utils.plot_model(model, to_file='model_plot.png', show_shapes=True, show_layer_names=False)"
      ],
      "metadata": {
        "colab": {
          "base_uri": "https://localhost:8080/",
          "height": 422
        },
        "id": "qwYF4pdOmWbE",
        "outputId": "cc2e46fc-a0ba-495e-cdb1-1ec9097a4c50"
      },
      "execution_count": 56,
      "outputs": [
        {
          "output_type": "execute_result",
          "data": {
            "image/png": "[encoded data removed]",
            "text/plain": [
              "<IPython.core.display.Image object>"
            ]
          },
          "metadata": {},
          "execution_count": 56
        }
      ]
    },
    {
      "cell_type": "code",
      "source": [
        "model.fit(x_train,        # обучающая выборка, входные данные\n",
        "          y_train,        # обучающая выборка, выходные данные\n",
        "          batch_size=128, # кол-во примеров, которое обрабатывает нейронка перед одним изменением весов\n",
        "          epochs=25,      # количество эпох, когда нейронка обучается на всех примерах выборки\n",
        "          verbose=1)  "
      ],
      "metadata": {
        "colab": {
          "base_uri": "https://localhost:8080/"
        },
        "id": "vuUC1UcFma17",
        "outputId": "eec0bfde-7261-4c9a-d13a-c90e4d653f76"
      },
      "execution_count": 53,
      "outputs": [
        {
          "output_type": "stream",
          "name": "stdout",
          "text": [
            "Epoch 1/25\n",
            "1/1 [==============================] - 0s 376ms/step - loss: 1.2848 - accuracy: 0.4902\n",
            "Epoch 2/25\n",
            "1/1 [==============================] - 0s 15ms/step - loss: 1.5637 - accuracy: 0.5098\n",
            "Epoch 3/25\n",
            "1/1 [==============================] - 0s 13ms/step - loss: 1.0632 - accuracy: 0.5098\n",
            "Epoch 4/25\n",
            "1/1 [==============================] - 0s 10ms/step - loss: 0.6213 - accuracy: 0.7843\n",
            "Epoch 5/25\n",
            "1/1 [==============================] - 0s 15ms/step - loss: 0.8328 - accuracy: 0.4902\n",
            "Epoch 6/25\n",
            "1/1 [==============================] - 0s 10ms/step - loss: 0.7486 - accuracy: 0.4902\n",
            "Epoch 7/25\n",
            "1/1 [==============================] - 0s 9ms/step - loss: 0.5932 - accuracy: 0.7451\n",
            "Epoch 8/25\n",
            "1/1 [==============================] - 0s 11ms/step - loss: 0.6035 - accuracy: 0.5490\n",
            "Epoch 9/25\n",
            "1/1 [==============================] - 0s 10ms/step - loss: 0.6454 - accuracy: 0.5098\n",
            "Epoch 10/25\n",
            "1/1 [==============================] - 0s 8ms/step - loss: 0.5952 - accuracy: 0.5294\n",
            "Epoch 11/25\n",
            "1/1 [==============================] - 0s 11ms/step - loss: 0.5274 - accuracy: 0.9118\n",
            "Epoch 12/25\n",
            "1/1 [==============================] - 0s 12ms/step - loss: 0.5327 - accuracy: 0.7549\n",
            "Epoch 13/25\n",
            "1/1 [==============================] - 0s 11ms/step - loss: 0.5498 - accuracy: 0.6176\n",
            "Epoch 14/25\n",
            "1/1 [==============================] - 0s 11ms/step - loss: 0.5075 - accuracy: 0.7549\n",
            "Epoch 15/25\n",
            "1/1 [==============================] - 0s 14ms/step - loss: 0.4609 - accuracy: 0.9804\n",
            "Epoch 16/25\n",
            "1/1 [==============================] - 0s 11ms/step - loss: 0.4633 - accuracy: 0.8627\n",
            "Epoch 17/25\n",
            "1/1 [==============================] - 0s 9ms/step - loss: 0.4646 - accuracy: 0.8235\n",
            "Epoch 18/25\n",
            "1/1 [==============================] - 0s 15ms/step - loss: 0.4273 - accuracy: 0.9216\n",
            "Epoch 19/25\n",
            "1/1 [==============================] - 0s 12ms/step - loss: 0.3958 - accuracy: 1.0000\n",
            "Epoch 20/25\n",
            "1/1 [==============================] - 0s 13ms/step - loss: 0.3981 - accuracy: 0.9608\n",
            "Epoch 21/25\n",
            "1/1 [==============================] - 0s 13ms/step - loss: 0.3896 - accuracy: 0.9412\n",
            "Epoch 22/25\n",
            "1/1 [==============================] - 0s 11ms/step - loss: 0.3548 - accuracy: 0.9902\n",
            "Epoch 23/25\n",
            "1/1 [==============================] - 0s 9ms/step - loss: 0.3354 - accuracy: 0.9902\n",
            "Epoch 24/25\n",
            "1/1 [==============================] - 0s 11ms/step - loss: 0.3343 - accuracy: 0.9510\n",
            "Epoch 25/25\n",
            "1/1 [==============================] - 0s 11ms/step - loss: 0.3149 - accuracy: 0.9608\n"
          ]
        },
        {
          "output_type": "execute_result",
          "data": {
            "text/plain": [
              "<keras.callbacks.History at 0x7f1e67fca810>"
            ]
          },
          "metadata": {},
          "execution_count": 53
        }
      ]
    },
    {
      "cell_type": "code",
      "source": [
        "# Сохранение модели\n",
        "model.save_weights('model.h5')\n",
        "\n",
        "# Перезапуска модели \n",
        "model.load_weights('model.h5')"
      ],
      "metadata": {
        "id": "GW4oKWf3mimP"
      },
      "execution_count": 67,
      "outputs": []
    },
    {
      "cell_type": "code",
      "source": [],
      "metadata": {
        "id": "GIXAg3eFq3Cm"
      },
      "execution_count": null,
      "outputs": []
    }
  ]
}